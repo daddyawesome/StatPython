{
  "cells": [
    {
      "metadata": {
        "collapsed": true
      },
      "cell_type": "markdown",
      "source": "# R Crash Course for ME\n\n## 1. Assignment\nThe key to assignment in R is the arrow operator (<-) for assignment.\n\nBelow are examples of assigning an integer, double, string and a boolean, and printing each out to the console in turn."
    },
    {
      "metadata": {
        "trusted": true
      },
      "cell_type": "code",
      "source": "# integer\ni <- 143\ni\n\n\n# double\nd <- 0.8\nd\n\n\n# string\ns <- 'A little Hello World'\ns\n\n\n# boolean\nb <- False\nb\n",
      "execution_count": 2,
      "outputs": [
        {
          "output_type": "display_data",
          "data": {
            "text/plain": "[1] 143",
            "text/latex": "143",
            "text/markdown": "143",
            "text/html": "143"
          },
          "metadata": {}
        },
        {
          "output_type": "display_data",
          "data": {
            "text/plain": "[1] 0.8",
            "text/latex": "0.8",
            "text/markdown": "0.8",
            "text/html": "0.8"
          },
          "metadata": {}
        },
        {
          "output_type": "display_data",
          "data": {
            "text/plain": "[1] \"A little Hello World\"",
            "text/latex": "'A little Hello World'",
            "text/markdown": "'A little Hello World'",
            "text/html": "'A little Hello World'"
          },
          "metadata": {}
        },
        {
          "output_type": "error",
          "ename": "ERROR",
          "evalue": "Error in eval(expr, envir, enclos): object 'False' not found\n",
          "traceback": [
            "Error in eval(expr, envir, enclos): object 'False' not found\nTraceback:\n"
          ]
        }
      ]
    },
    {
      "metadata": {},
      "cell_type": "markdown",
      "source": "Remember, do not use equals (=) for assignment. It is the biggest mistake new R programmers make\n\n## 2. Data Structures\nThere three data structures that you will use the most in R:\n\n- Vectors\n- Lists\n- Matrices\n- Data Frames\n\n**Lists**\n\nLists provide a group of named items, not unlike a map."
    },
    {
      "metadata": {
        "trusted": true
      },
      "cell_type": "code",
      "source": "# create a list of named items\na <- list(aa=1, bb=2, cc=3)\na$bb\n \n# add a named item to a list\na$dd=4\na$aa\n\na",
      "execution_count": 5,
      "outputs": [
        {
          "output_type": "display_data",
          "data": {
            "text/plain": "[1] 2",
            "text/latex": "2",
            "text/markdown": "2",
            "text/html": "2"
          },
          "metadata": {}
        },
        {
          "output_type": "display_data",
          "data": {
            "text/plain": "[1] 1",
            "text/latex": "1",
            "text/markdown": "1",
            "text/html": "1"
          },
          "metadata": {}
        },
        {
          "output_type": "display_data",
          "data": {
            "text/plain": "$aa\n[1] 1\n\n$bb\n[1] 2\n\n$cc\n[1] 3\n\n$dd\n[1] 4\n",
            "text/latex": "\\begin{description}\n\\item[\\$aa] 1\n\\item[\\$bb] 2\n\\item[\\$cc] 3\n\\item[\\$dd] 4\n\\end{description}\n",
            "text/markdown": "$aa\n:   1\n$bb\n:   2\n$cc\n:   3\n$dd\n:   4\n\n\n",
            "text/html": "<dl>\n\t<dt>$aa</dt>\n\t\t<dd>1</dd>\n\t<dt>$bb</dt>\n\t\t<dd>2</dd>\n\t<dt>$cc</dt>\n\t\t<dd>3</dd>\n\t<dt>$dd</dt>\n\t\t<dd>4</dd>\n</dl>\n"
          },
          "metadata": {}
        }
      ]
    },
    {
      "metadata": {},
      "cell_type": "markdown",
      "source": "You can define a new list with the list() function. A list can be initialized with values or empty. Note that the named values in the list can be accessed using the dollar operator ($). Once referenced, they can be read or written. This is also how new items can be added to the list.\n\n**Vectors**\n\nVectors are lists of data that can be the same or different types:"
    },
    {
      "metadata": {
        "trusted": true
      },
      "cell_type": "code",
      "source": "# create a vector using the c() function\nv <- c(98, 99, 100)\nv\nv[1:2]\n \n# create a vector from a range of integers\nr <- (1:10)\nr\nr[5:10]\n \n# add a new item to the end of a vector\nv <- c(1, 2, 3)\nv[4] <- 4\nv\n",
      "execution_count": 6,
      "outputs": [
        {
          "output_type": "display_data",
          "data": {
            "text/plain": "[1]  98  99 100",
            "text/latex": "\\begin{enumerate*}\n\\item 98\n\\item 99\n\\item 100\n\\end{enumerate*}\n",
            "text/markdown": "1. 98\n2. 99\n3. 100\n\n\n",
            "text/html": "<ol class=list-inline>\n\t<li>98</li>\n\t<li>99</li>\n\t<li>100</li>\n</ol>\n"
          },
          "metadata": {}
        },
        {
          "output_type": "display_data",
          "data": {
            "text/plain": "[1] 98 99",
            "text/latex": "\\begin{enumerate*}\n\\item 98\n\\item 99\n\\end{enumerate*}\n",
            "text/markdown": "1. 98\n2. 99\n\n\n",
            "text/html": "<ol class=list-inline>\n\t<li>98</li>\n\t<li>99</li>\n</ol>\n"
          },
          "metadata": {}
        },
        {
          "output_type": "display_data",
          "data": {
            "text/plain": " [1]  1  2  3  4  5  6  7  8  9 10",
            "text/latex": "\\begin{enumerate*}\n\\item 1\n\\item 2\n\\item 3\n\\item 4\n\\item 5\n\\item 6\n\\item 7\n\\item 8\n\\item 9\n\\item 10\n\\end{enumerate*}\n",
            "text/markdown": "1. 1\n2. 2\n3. 3\n4. 4\n5. 5\n6. 6\n7. 7\n8. 8\n9. 9\n10. 10\n\n\n",
            "text/html": "<ol class=list-inline>\n\t<li>1</li>\n\t<li>2</li>\n\t<li>3</li>\n\t<li>4</li>\n\t<li>5</li>\n\t<li>6</li>\n\t<li>7</li>\n\t<li>8</li>\n\t<li>9</li>\n\t<li>10</li>\n</ol>\n"
          },
          "metadata": {}
        },
        {
          "output_type": "display_data",
          "data": {
            "text/plain": "[1]  5  6  7  8  9 10",
            "text/latex": "\\begin{enumerate*}\n\\item 5\n\\item 6\n\\item 7\n\\item 8\n\\item 9\n\\item 10\n\\end{enumerate*}\n",
            "text/markdown": "1. 5\n2. 6\n3. 7\n4. 8\n5. 9\n6. 10\n\n\n",
            "text/html": "<ol class=list-inline>\n\t<li>5</li>\n\t<li>6</li>\n\t<li>7</li>\n\t<li>8</li>\n\t<li>9</li>\n\t<li>10</li>\n</ol>\n"
          },
          "metadata": {}
        },
        {
          "output_type": "display_data",
          "data": {
            "text/plain": "[1] 1 2 3 4",
            "text/latex": "\\begin{enumerate*}\n\\item 1\n\\item 2\n\\item 3\n\\item 4\n\\end{enumerate*}\n",
            "text/markdown": "1. 1\n2. 2\n3. 3\n4. 4\n\n\n",
            "text/html": "<ol class=list-inline>\n\t<li>1</li>\n\t<li>2</li>\n\t<li>3</li>\n\t<li>4</li>\n</ol>\n"
          },
          "metadata": {}
        }
      ]
    },
    {
      "metadata": {
        "trusted": true
      },
      "cell_type": "code",
      "source": "",
      "execution_count": null,
      "outputs": []
    }
  ],
  "metadata": {
    "kernelspec": {
      "name": "r",
      "display_name": "R",
      "language": "R"
    },
    "language_info": {
      "mimetype": "text/x-r-source",
      "name": "R",
      "pygments_lexer": "r",
      "version": "3.5.3",
      "file_extension": ".r",
      "codemirror_mode": "r"
    }
  },
  "nbformat": 4,
  "nbformat_minor": 2
}