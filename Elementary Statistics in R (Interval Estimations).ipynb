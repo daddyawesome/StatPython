{
  "cells": [
    {
      "metadata": {
        "collapsed": true
      },
      "cell_type": "markdown",
      "source": "# Interval Estimation\nIt is a common requirement to efficiently estimate population parameters based on simple random sample data. In the R tutorials of this section, we demonstrate how to compute the estimates. The steps are to be illustrated with a built-in data frame named survey. It is the outcome of a Statistics student survey in an Australian university.\n\nThe data set belongs to the MASS package, which has to be pre-loaded into the R workspace prior to use."
    },
    {
      "metadata": {
        "trusted": true
      },
      "cell_type": "code",
      "source": "library(MASS)      # load the MASS package \nhead(survey) ",
      "execution_count": 2,
      "outputs": [
        {
          "output_type": "display_data",
          "data": {
            "text/plain": "  Sex    Wr.Hnd NW.Hnd W.Hnd Fold    Pulse Clap    Exer Smoke Height M.I     \n1 Female 18.5   18.0   Right R on L   92   Left    Some Never 173.00 Metric  \n2 Male   19.5   20.5   Left  R on L  104   Left    None Regul 177.80 Imperial\n3 Male   18.0   13.3   Right L on R   87   Neither None Occas     NA NA      \n4 Male   18.8   18.9   Right R on L   NA   Neither None Never 160.00 Metric  \n5 Male   20.0   20.0   Right Neither  35   Right   Some Never 165.00 Metric  \n6 Female 18.0   17.7   Right L on R   64   Right   Some Never 172.72 Imperial\n  Age   \n1 18.250\n2 17.583\n3 16.917\n4 20.333\n5 23.667\n6 21.000",
            "text/latex": "\\begin{tabular}{r|llllllllllll}\n Sex & Wr.Hnd & NW.Hnd & W.Hnd & Fold & Pulse & Clap & Exer & Smoke & Height & M.I & Age\\\\\n\\hline\n\t Female   & 18.5     & 18.0     & Right    & R on L   &  92      & Left     & Some     & Never    & 173.00   & Metric   & 18.250  \\\\\n\t Male     & 19.5     & 20.5     & Left     & R on L   & 104      & Left     & None     & Regul    & 177.80   & Imperial & 17.583  \\\\\n\t Male     & 18.0     & 13.3     & Right    & L on R   &  87      & Neither  & None     & Occas    &     NA   & NA       & 16.917  \\\\\n\t Male     & 18.8     & 18.9     & Right    & R on L   &  NA      & Neither  & None     & Never    & 160.00   & Metric   & 20.333  \\\\\n\t Male     & 20.0     & 20.0     & Right    & Neither  &  35      & Right    & Some     & Never    & 165.00   & Metric   & 23.667  \\\\\n\t Female   & 18.0     & 17.7     & Right    & L on R   &  64      & Right    & Some     & Never    & 172.72   & Imperial & 21.000  \\\\\n\\end{tabular}\n",
            "text/markdown": "\nSex | Wr.Hnd | NW.Hnd | W.Hnd | Fold | Pulse | Clap | Exer | Smoke | Height | M.I | Age | \n|---|---|---|---|---|---|\n| Female   | 18.5     | 18.0     | Right    | R on L   |  92      | Left     | Some     | Never    | 173.00   | Metric   | 18.250   | \n| Male     | 19.5     | 20.5     | Left     | R on L   | 104      | Left     | None     | Regul    | 177.80   | Imperial | 17.583   | \n| Male     | 18.0     | 13.3     | Right    | L on R   |  87      | Neither  | None     | Occas    |     NA   | NA       | 16.917   | \n| Male     | 18.8     | 18.9     | Right    | R on L   |  NA      | Neither  | None     | Never    | 160.00   | Metric   | 20.333   | \n| Male     | 20.0     | 20.0     | Right    | Neither  |  35      | Right    | Some     | Never    | 165.00   | Metric   | 23.667   | \n| Female   | 18.0     | 17.7     | Right    | L on R   |  64      | Right    | Some     | Never    | 172.72   | Imperial | 21.000   | \n\n\n",
            "text/html": "<table>\n<thead><tr><th scope=col>Sex</th><th scope=col>Wr.Hnd</th><th scope=col>NW.Hnd</th><th scope=col>W.Hnd</th><th scope=col>Fold</th><th scope=col>Pulse</th><th scope=col>Clap</th><th scope=col>Exer</th><th scope=col>Smoke</th><th scope=col>Height</th><th scope=col>M.I</th><th scope=col>Age</th></tr></thead>\n<tbody>\n\t<tr><td>Female  </td><td>18.5    </td><td>18.0    </td><td>Right   </td><td>R on L  </td><td> 92     </td><td>Left    </td><td>Some    </td><td>Never   </td><td>173.00  </td><td>Metric  </td><td>18.250  </td></tr>\n\t<tr><td>Male    </td><td>19.5    </td><td>20.5    </td><td>Left    </td><td>R on L  </td><td>104     </td><td>Left    </td><td>None    </td><td>Regul   </td><td>177.80  </td><td>Imperial</td><td>17.583  </td></tr>\n\t<tr><td>Male    </td><td>18.0    </td><td>13.3    </td><td>Right   </td><td>L on R  </td><td> 87     </td><td>Neither </td><td>None    </td><td>Occas   </td><td>    NA  </td><td>NA      </td><td>16.917  </td></tr>\n\t<tr><td>Male    </td><td>18.8    </td><td>18.9    </td><td>Right   </td><td>R on L  </td><td> NA     </td><td>Neither </td><td>None    </td><td>Never   </td><td>160.00  </td><td>Metric  </td><td>20.333  </td></tr>\n\t<tr><td>Male    </td><td>20.0    </td><td>20.0    </td><td>Right   </td><td>Neither </td><td> 35     </td><td>Right   </td><td>Some    </td><td>Never   </td><td>165.00  </td><td>Metric  </td><td>23.667  </td></tr>\n\t<tr><td>Female  </td><td>18.0    </td><td>17.7    </td><td>Right   </td><td>L on R  </td><td> 64     </td><td>Right   </td><td>Some    </td><td>Never   </td><td>172.72  </td><td>Imperial</td><td>21.000  </td></tr>\n</tbody>\n</table>\n"
          },
          "metadata": {}
        }
      ]
    },
    {
      "metadata": {},
      "cell_type": "markdown",
      "source": "## Point Estimate of Population Mean\nFor any particular random sample, we can always compute its sample mean. Although most often it is not the actual population mean, it does serve as a good **point estimate**. For example, in the data set survey, the survey is performed on a sample of the student population. We can compute the sample mean and use it as an estimate of the corresponding population parameter.\n\n**Problem**\n\nFind a point estimate of mean university student height with the sample data from survey.\n\n**Solution**\n\nFor convenience, we begin with saving the survey data of student heights in a variable height.survey."
    },
    {
      "metadata": {
        "trusted": true
      },
      "cell_type": "code",
      "source": "height.survey = survey$Height\n",
      "execution_count": 3,
      "outputs": []
    },
    {
      "metadata": {},
      "cell_type": "markdown",
      "source": "It turns out not all students have answered the question, and we must filter out the missing values. Hence we apply the mean function with the \"na.rm\" argument as TRUE."
    },
    {
      "metadata": {
        "trusted": true
      },
      "cell_type": "code",
      "source": "mean(height.survey, na.rm=TRUE)  # skip missing values ",
      "execution_count": 4,
      "outputs": [
        {
          "output_type": "display_data",
          "data": {
            "text/plain": "[1] 172.3809",
            "text/latex": "172.380861244019",
            "text/markdown": "172.380861244019",
            "text/html": "172.380861244019"
          },
          "metadata": {}
        }
      ]
    },
    {
      "metadata": {},
      "cell_type": "markdown",
      "source": "**Answer**\n\nA point estimate of the mean student height is 172.38 centimeters."
    },
    {
      "metadata": {},
      "cell_type": "markdown",
      "source": "## Interval Estimate of Population Mean with Known Variance"
    },
    {
      "metadata": {},
      "cell_type": "markdown",
      "source": "**Problem**\n\nAssume the population standard deviation σ of the student height in survey is 9.48. Find the margin of error and interval estimate at 95% confidence level.\n\n**Solution**\n\nWe first filter out missing values in survey$Height with the na.omit function, and save it in height.response."
    },
    {
      "metadata": {
        "trusted": true
      },
      "cell_type": "code",
      "source": "height.response = na.omit(survey$Height)",
      "execution_count": 5,
      "outputs": []
    },
    {
      "metadata": {},
      "cell_type": "markdown",
      "source": "Then we compute the standard error of the mean."
    },
    {
      "metadata": {
        "trusted": true
      },
      "cell_type": "code",
      "source": "n = length(height.response)\nsigma = 9.48                   # population standard deviation \nsem = sigma/sqrt(n); sem       # standard error of the mean ",
      "execution_count": 7,
      "outputs": [
        {
          "output_type": "display_data",
          "data": {
            "text/plain": "[1] 0.6557453",
            "text/latex": "0.655745311745039",
            "text/markdown": "0.655745311745039",
            "text/html": "0.655745311745039"
          },
          "metadata": {}
        }
      ]
    },
    {
      "metadata": {},
      "cell_type": "markdown",
      "source": "Since there are two tails of the normal distribution, the 95% confidence level would imply the 97.5th percentile of the normal distribution at the upper tail. Therefore, z<sub>α∕2</sub> is given by qnorm(.975). We multiply it with the standard error of the mean sem and get the margin of error."
    },
    {
      "metadata": {
        "trusted": true
      },
      "cell_type": "code",
      "source": "E = qnorm(.975)*sem\nE                      # margin of error",
      "execution_count": 10,
      "outputs": [
        {
          "output_type": "display_data",
          "data": {
            "text/plain": "[1] 1.285237",
            "text/latex": "1.28523719405127",
            "text/markdown": "1.28523719405127",
            "text/html": "1.28523719405127"
          },
          "metadata": {}
        }
      ]
    },
    {
      "metadata": {},
      "cell_type": "markdown",
      "source": "We then add it up with the sample mean, and find the confidence interval as told."
    },
    {
      "metadata": {
        "trusted": true
      },
      "cell_type": "code",
      "source": "xbar = mean(height.response)   # sample mean \nxbar + c(-E, E)",
      "execution_count": 14,
      "outputs": [
        {
          "output_type": "display_data",
          "data": {
            "text/plain": "[1] 171.0956 173.6661",
            "text/latex": "\\begin{enumerate*}\n\\item 171.095624049968\n\\item 173.66609843807\n\\end{enumerate*}\n",
            "text/markdown": "1. 171.095624049968\n2. 173.66609843807\n\n\n",
            "text/html": "<ol class=list-inline>\n\t<li>171.095624049968</li>\n\t<li>173.66609843807</li>\n</ol>\n"
          },
          "metadata": {}
        }
      ]
    },
    {
      "metadata": {},
      "cell_type": "markdown",
      "source": "**Answer**\n\nAssuming the population standard deviation σ being 9.48, the margin of error for the student height survey at 95% confidence level is 1.2852 centimeters. The confidence interval is between 171.10 and 173.67 centimeters."
    },
    {
      "metadata": {},
      "cell_type": "markdown",
      "source": "**Alternative Solution**\n\nInstead of using the textbook formula, we can apply the z.test function in the TeachingDemos package. It is not a core R package, and must be installed and loaded into the workspace beforehand."
    },
    {
      "metadata": {
        "trusted": true
      },
      "cell_type": "code",
      "source": "library(TeachingDemos)     # load TeachingDemos package \nz.test(height.response, sd=sigma)",
      "execution_count": 16,
      "outputs": [
        {
          "output_type": "display_data",
          "data": {
            "text/plain": "\n\tOne Sample z-test\n\ndata:  height.response\nz = 262.88, n = 209.00000, Std. Dev. = 9.48000, Std. Dev. of the sample\nmean = 0.65575, p-value < 2.2e-16\nalternative hypothesis: true mean is not equal to 0\n95 percent confidence interval:\n 171.0956 173.6661\nsample estimates:\nmean of height.response \n               172.3809 \n"
          },
          "metadata": {}
        }
      ]
    },
    {
      "metadata": {},
      "cell_type": "markdown",
      "source": "## Interval Estimate of Population Mean with Unknown Variance"
    },
    {
      "metadata": {},
      "cell_type": "markdown",
      "source": "**Problem**\n\nWithout assuming the population standard deviation of the student height in survey, find the margin of error and interval estimate at 95% confidence level.\n\n**Solution**\n\nWe first filter out missing values in survey$Height with the na.omit function, and save it in height.response.\n\nThen we compute the sample standard deviation."
    },
    {
      "metadata": {
        "trusted": true
      },
      "cell_type": "code",
      "source": "s = sd(height.response)        # sample standard deviation \nSE = s/sqrt(n); SE             # standard error estimate ",
      "execution_count": 17,
      "outputs": [
        {
          "output_type": "display_data",
          "data": {
            "text/plain": "[1] 0.6811677",
            "text/latex": "0.68116773214787",
            "text/markdown": "0.68116773214787",
            "text/html": "0.68116773214787"
          },
          "metadata": {}
        }
      ]
    },
    {
      "metadata": {},
      "cell_type": "markdown",
      "source": "Since there are two tails of the Student t distribution, the 95% confidence level would imply the 97.5th percentile of the Student t distribution at the upper tail. Therefore, t<sub>α∕2</sub> is given by qt(.975, df=n-1). We multiply it with the standard error estimate SE and get the margin of error."
    },
    {
      "metadata": {
        "trusted": true
      },
      "cell_type": "code",
      "source": "E =qt(.975, df=n-1)*SE\nE                            # margin of error ",
      "execution_count": 26,
      "outputs": [
        {
          "output_type": "display_data",
          "data": {
            "text/plain": "[1] 1.342878",
            "text/latex": "1.34287767542194",
            "text/markdown": "1.34287767542194",
            "text/html": "1.34287767542194"
          },
          "metadata": {}
        }
      ]
    },
    {
      "metadata": {},
      "cell_type": "markdown",
      "source": "We then add it up with the sample mean, and find the confidence interval."
    },
    {
      "metadata": {
        "trusted": true
      },
      "cell_type": "code",
      "source": "xbar = mean(height.response)   # sample mean \nxbar + c(-E,E)",
      "execution_count": 30,
      "outputs": [
        {
          "output_type": "display_data",
          "data": {
            "text/plain": "[1] 171.0380 173.7237",
            "text/latex": "\\begin{enumerate*}\n\\item 171.037983568597\n\\item 173.723738919441\n\\end{enumerate*}\n",
            "text/markdown": "1. 171.037983568597\n2. 173.723738919441\n\n\n",
            "text/html": "<ol class=list-inline>\n\t<li>171.037983568597</li>\n\t<li>173.723738919441</li>\n</ol>\n"
          },
          "metadata": {}
        }
      ]
    },
    {
      "metadata": {},
      "cell_type": "markdown",
      "source": "**Answer**\n\nWithout assumption on the population standard deviation, the margin of error for the student height survey at 95% confidence level is 1.3429 centimeters. The confidence interval is between 171.04 and 173.72 centimeters."
    },
    {
      "metadata": {},
      "cell_type": "markdown",
      "source": "**Alternative Solution**\n\nInstead of using the textbook formula, we can apply the t.test function in the built-in stats package."
    },
    {
      "metadata": {
        "trusted": true
      },
      "cell_type": "code",
      "source": "t.test(height.response)",
      "execution_count": 31,
      "outputs": [
        {
          "output_type": "display_data",
          "data": {
            "text/plain": "\n\tOne Sample t-test\n\ndata:  height.response\nt = 253.07, df = 208, p-value < 2.2e-16\nalternative hypothesis: true mean is not equal to 0\n95 percent confidence interval:\n 171.0380 173.7237\nsample estimates:\nmean of x \n 172.3809 \n"
          },
          "metadata": {}
        }
      ]
    },
    {
      "metadata": {},
      "cell_type": "markdown",
      "source": "## Sampling Size of Population Mean"
    },
    {
      "metadata": {},
      "cell_type": "markdown",
      "source": "**Problem**\n\nAssume the population standard deviation σ of the student height in survey is 9.48. Find the sample size needed to achieve a 1.2 centimeters margin of error at 95% confidence level.\n\n**Solution**\n\nSince there are two tails of the normal distribution, the 95% confidence level would imply the 97.5th percentile of the normal distribution at the upper tail. Therefore, z<sub>α∕2</sub> is given by qnorm(.975)."
    },
    {
      "metadata": {
        "trusted": true
      },
      "cell_type": "code",
      "source": "zstar = qnorm(.975) \nsigma = 9.48 \nE = 1.2 \nzstar^2 * sigma^2/ E^2",
      "execution_count": 3,
      "outputs": [
        {
          "output_type": "display_data",
          "data": {
            "text/plain": "[1] 239.7454",
            "text/latex": "239.74544499952",
            "text/markdown": "239.74544499952",
            "text/html": "239.74544499952"
          },
          "metadata": {}
        }
      ]
    },
    {
      "metadata": {
        "trusted": true
      },
      "cell_type": "markdown",
      "source": "**Answer**\n\nBased on the assumption of population standard deviation being 9.48, it needs a sample size of 240 to achieve a 1.2 centimeters margin of error at 95% confidence level."
    },
    {
      "metadata": {},
      "cell_type": "markdown",
      "source": "## Point Estimate of Population Proportion\nMultiple choice questionnaires in a survey are often used to determine the the proportion of a population with certain characteristic. For example, we can estimate the proportion of female students in the university based on the result in the sample data set *survey.*"
    },
    {
      "metadata": {},
      "cell_type": "markdown",
      "source": "**Problem**\nFind a point estimate of the female student proportion from survey.\n\n**Solution**\nWe first filter out missing values in survey$Sex with the na.omit function, and save it in gender.response."
    },
    {
      "metadata": {
        "trusted": true
      },
      "cell_type": "code",
      "source": "library(MASS)                  # load the MASS package \ngender.response = na.omit(survey$Sex) \nn = length(gender.response)    # valid responses count",
      "execution_count": 1,
      "outputs": []
    },
    {
      "metadata": {},
      "cell_type": "markdown",
      "source": "To find out the number of female students, we compare gender.response with the factor ’Female’, and compute the sum. Dividing it by n gives the female student proportion in the sample survey."
    },
    {
      "metadata": {
        "trusted": true
      },
      "cell_type": "code",
      "source": "k = sum(gender.response == \"Female\") \npbar = k/n; pbar",
      "execution_count": 2,
      "outputs": [
        {
          "output_type": "display_data",
          "data": {
            "text/plain": "[1] 0.5",
            "text/latex": "0.5",
            "text/markdown": "0.5",
            "text/html": "0.5"
          },
          "metadata": {}
        }
      ]
    },
    {
      "metadata": {},
      "cell_type": "markdown",
      "source": "**Answer**\n\nThe point estimate of the female student proportion in survey is 50%."
    },
    {
      "metadata": {},
      "cell_type": "markdown",
      "source": "## Interval Estimate of Population Proportion\nAfter we found a point sample estimate of the population proportion, we would need to **estimate its confidence interval.**"
    },
    {
      "metadata": {},
      "cell_type": "markdown",
      "source": "**Problem**\n\nCompute the margin of error and estimate interval for the female students proportion in survey at 95% confidence level.\n\n**Solution**\n\nWe first determine the proportion point estimate. Further details can be found in the previous tutorial.\n\nThen we estimate the standard error."
    },
    {
      "metadata": {
        "trusted": true
      },
      "cell_type": "code",
      "source": "SE = sqrt(pbar*(1-pbar)/n);\nSE                    # standard error ",
      "execution_count": 4,
      "outputs": [
        {
          "output_type": "display_data",
          "data": {
            "text/plain": "[1] 0.03254723",
            "text/latex": "0.032547227745206",
            "text/markdown": "0.032547227745206",
            "text/html": "0.032547227745206"
          },
          "metadata": {}
        }
      ]
    },
    {
      "metadata": {},
      "cell_type": "markdown",
      "source": "Since there are two tails of the normal distribution, the 95% confidence level would imply the 97.5th percentile of the normal distribution at the upper tail. Therefore, z<sub>α∕2</sub> is given by qnorm(.975). Hence we multiply it with the standard error estimate SE and compute the margin of error."
    },
    {
      "metadata": {
        "trusted": true
      },
      "cell_type": "code",
      "source": "E=qnorm(.975)*SE\nE              # margin of error ",
      "execution_count": 7,
      "outputs": [
        {
          "output_type": "display_data",
          "data": {
            "text/plain": "[1] 0.06379139",
            "text/latex": "0.0637913941772265",
            "text/markdown": "0.0637913941772265",
            "text/html": "0.0637913941772265"
          },
          "metadata": {}
        }
      ]
    },
    {
      "metadata": {},
      "cell_type": "markdown",
      "source": "Combining it with the sample proportion, we obtain the confidence interval."
    },
    {
      "metadata": {
        "trusted": true
      },
      "cell_type": "code",
      "source": "pbar + c(-E,E)",
      "execution_count": 9,
      "outputs": [
        {
          "output_type": "display_data",
          "data": {
            "text/plain": "[1] 0.4362086 0.5637914",
            "text/latex": "\\begin{enumerate*}\n\\item 0.436208605822774\n\\item 0.563791394177226\n\\end{enumerate*}\n",
            "text/markdown": "1. 0.436208605822774\n2. 0.563791394177226\n\n\n",
            "text/html": "<ol class=list-inline>\n\t<li>0.436208605822774</li>\n\t<li>0.563791394177226</li>\n</ol>\n"
          },
          "metadata": {}
        }
      ]
    },
    {
      "metadata": {},
      "cell_type": "markdown",
      "source": "**Answer**\n\nAt 95% confidence level, between 43.6% and 56.3% of the university students are female, and the margin of error is 6.4%."
    },
    {
      "metadata": {},
      "cell_type": "markdown",
      "source": "**Alternative Solution**\n\nInstead of using the textbook formula, we can apply the prop.test function in the built-in stats package."
    },
    {
      "metadata": {
        "trusted": true
      },
      "cell_type": "code",
      "source": "prop.test(k, n)",
      "execution_count": 10,
      "outputs": [
        {
          "output_type": "display_data",
          "data": {
            "text/plain": "\n\t1-sample proportions test without continuity correction\n\ndata:  k out of n, null probability 0.5\nX-squared = 0, df = 1, p-value = 1\nalternative hypothesis: true p is not equal to 0.5\n95 percent confidence interval:\n 0.4367215 0.5632785\nsample estimates:\n  p \n0.5 \n"
          },
          "metadata": {}
        }
      ]
    },
    {
      "metadata": {},
      "cell_type": "markdown",
      "source": "## Sampling Size of Population Proportion"
    },
    {
      "metadata": {},
      "cell_type": "markdown",
      "source": "**Problem**\n\nUsing a 50% planned proportion estimate, find the sample size needed to achieve 5% margin of error for the female student survey at 95% confidence level.\n\n**Solution**\n\nSince there are two tails of the normal distribution, the 95% confidence level would imply the 97.5th percentile of the normal distribution at the upper tail. Therefore, z<sub>α∕2</sub> is given by qnorm(.975)."
    },
    {
      "metadata": {
        "trusted": true
      },
      "cell_type": "code",
      "source": "",
      "execution_count": null,
      "outputs": []
    }
  ],
  "metadata": {
    "kernelspec": {
      "name": "r",
      "display_name": "R",
      "language": "R"
    },
    "language_info": {
      "mimetype": "text/x-r-source",
      "name": "R",
      "pygments_lexer": "r",
      "version": "3.4.1",
      "file_extension": ".r",
      "codemirror_mode": "r"
    }
  },
  "nbformat": 4,
  "nbformat_minor": 2
}