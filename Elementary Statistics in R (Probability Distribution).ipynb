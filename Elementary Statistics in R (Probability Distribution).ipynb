{
  "cells": [
    {
      "metadata": {
        "collapsed": true
      },
      "cell_type": "markdown",
      "source": "# Probability Distributions\nA **probability distribution** describes how the values of a random variable is distributed. For example, the collection of all possible outcomes of a sequence of coin tossing is known to follow the _binomial distribution_. Whereas the _means_ of sufficiently large samples of a data population are known to resemble the _normal distribution_. Since the characteristics of these theoretical distributions are well understood, they can be used to make statistical inferences on the entire data population as a whole."
    },
    {
      "metadata": {},
      "cell_type": "markdown",
      "source": "## Binomial Distribution\nThe binomial distribution is a discrete probability distribution. It describes the outcome of n independent trials in an experiment. Each trial is assumed to have only two outcomes, either success or failure. If the probability of a successful trial is p, then the probability of having x successful outcomes in an experiment of n independent trials is as follows.\n\\begin{equation*}\nf(x)=\\binom{n}{x}p^{x}(1-p)^{(n-x)}\\: \\: where: x=0,1,2,...,n\n\\end{equation*}"
    },
    {
      "metadata": {
        "trusted": true
      },
      "cell_type": "markdown",
      "source": "**Problem**\n\nSuppose there are twelve multiple choice questions in an English class quiz. Each question has five possible answers, and only one of them is correct. Find the probability of having four or less correct answers if a student attempts to answer every question at random."
    },
    {
      "metadata": {},
      "cell_type": "markdown",
      "source": "__Solution__\n\nSince only one out of five possible answers is correct, the probability of answering a question correctly by random is 1/5=0.2. We can find the probability of having exactly 4 correct answers by random attempts as follows."
    },
    {
      "metadata": {
        "trusted": true
      },
      "cell_type": "code",
      "source": "dbinom(4, size=12, prob=0.2)",
      "execution_count": 1,
      "outputs": [
        {
          "output_type": "display_data",
          "data": {
            "text/plain": "[1] 0.1328756",
            "text/latex": "0.13287555072",
            "text/markdown": "0.13287555072",
            "text/html": "0.13287555072"
          },
          "metadata": {}
        }
      ]
    },
    {
      "metadata": {},
      "cell_type": "markdown",
      "source": "To find the probability of having four or less correct answers by random attempts, we apply the function dbinom with x = 0,…,4."
    },
    {
      "metadata": {
        "trusted": true
      },
      "cell_type": "code",
      "source": "dbinom(0, size=12, prob=0.2) + \n+ dbinom(1, size=12, prob=0.2) + \n+ dbinom(2, size=12, prob=0.2) + \n+ dbinom(3, size=12, prob=0.2) + \n+ dbinom(4, size=12, prob=0.2) ",
      "execution_count": 2,
      "outputs": [
        {
          "output_type": "display_data",
          "data": {
            "text/plain": "[1] 0.9274445",
            "text/latex": "0.92744450048",
            "text/markdown": "0.92744450048",
            "text/html": "0.92744450048"
          },
          "metadata": {}
        }
      ]
    },
    {
      "metadata": {},
      "cell_type": "markdown",
      "source": "Alternatively, we can use the cumulative probability function for binomial distribution pbinom."
    },
    {
      "metadata": {
        "trusted": true
      },
      "cell_type": "code",
      "source": "pbinom(4, size=12, prob=0.2) ",
      "execution_count": 3,
      "outputs": [
        {
          "output_type": "display_data",
          "data": {
            "text/plain": "[1] 0.9274445",
            "text/latex": "0.92744450048",
            "text/markdown": "0.92744450048",
            "text/html": "0.92744450048"
          },
          "metadata": {}
        }
      ]
    },
    {
      "metadata": {},
      "cell_type": "markdown",
      "source": "__Answer__\n\nThe probability of four or less questions answered correctly by random in a twelve question multiple choice quiz is 92.7%."
    },
    {
      "metadata": {},
      "cell_type": "markdown",
      "source": "## Poisson Distribution\nThe __Poisson distribution__ is the probability distribution of independent event occurrences in an interval. If λ is the mean occurrence per interval, then the probability of having x occurrences within a given interval is:\n\\begin{equation*}\nf(x)=\\frac{\\lambda ^{x}e^{-\\lambda} }{x!}\\: \\: where: x=0,1,2,...\n\\end{equation*}"
    },
    {
      "metadata": {},
      "cell_type": "markdown",
      "source": "**Problem**\n\nIf there are twelve cars crossing a bridge per minute on average, find the probability of having seventeen or more cars crossing the bridge in a particular minute.\n\n**Solution**\n\nThe probability of having *sixteen or less cars* crossing the bridge in a particular minute is given by the function *ppois.*"
    },
    {
      "metadata": {
        "trusted": true
      },
      "cell_type": "code",
      "source": "ppois(16, lambda=12)   # lower tail ",
      "execution_count": 4,
      "outputs": [
        {
          "output_type": "display_data",
          "data": {
            "text/plain": "[1] 0.898709",
            "text/latex": "0.898708992560162",
            "text/markdown": "0.898708992560162",
            "text/html": "0.898708992560162"
          },
          "metadata": {}
        }
      ]
    },
    {
      "metadata": {},
      "cell_type": "markdown",
      "source": "Hence the probability of having seventeen or more cars crossing the bridge in a minute is in the _upper tail_ of the probability density function."
    },
    {
      "metadata": {
        "trusted": true
      },
      "cell_type": "code",
      "source": "ppois(16, lambda=12, lower=FALSE)   # upper tail ",
      "execution_count": 5,
      "outputs": [
        {
          "output_type": "display_data",
          "data": {
            "text/plain": "[1] 0.101291",
            "text/latex": "0.101291007439838",
            "text/markdown": "0.101291007439838",
            "text/html": "0.101291007439838"
          },
          "metadata": {}
        }
      ]
    },
    {
      "metadata": {},
      "cell_type": "markdown",
      "source": "__Answer__\n\nIf there are twelve cars crossing a bridge per minute on average, the probability of having seventeen or more cars crossing the bridge in a particular minute is 10.1%."
    },
    {
      "metadata": {},
      "cell_type": "markdown",
      "source": "## Continuous Uniform Distribution\nThe **continuous uniform distribution** is the probability distribution of random number selection from the continuous interval between *a* and *b*."
    },
    {
      "metadata": {},
      "cell_type": "markdown",
      "source": "**Problem**\n\nSelect ten random numbers between one and three.\n\n**Solution**\n\nWe apply the generation function runif of the uniform distribution to generate ten random numbers between one and three."
    },
    {
      "metadata": {
        "trusted": true
      },
      "cell_type": "code",
      "source": "runif(10, min=1, max=3)",
      "execution_count": 6,
      "outputs": [
        {
          "output_type": "display_data",
          "data": {
            "text/plain": " [1] 1.971749 1.054967 2.488840 1.564825 2.267573 1.760369 2.780861 2.167640\n [9] 2.669102 2.875416",
            "text/latex": "\\begin{enumerate*}\n\\item 1.97174938395619\n\\item 1.05496679758653\n\\item 2.48884021490812\n\\item 1.56482533924282\n\\item 2.26757261250168\n\\item 1.76036934182048\n\\item 2.78086062893271\n\\item 2.16763998055831\n\\item 2.66910182312131\n\\item 2.87541572004557\n\\end{enumerate*}\n",
            "text/markdown": "1. 1.97174938395619\n2. 1.05496679758653\n3. 2.48884021490812\n4. 1.56482533924282\n5. 2.26757261250168\n6. 1.76036934182048\n7. 2.78086062893271\n8. 2.16763998055831\n9. 2.66910182312131\n10. 2.87541572004557\n\n\n",
            "text/html": "<ol class=list-inline>\n\t<li>1.97174938395619</li>\n\t<li>1.05496679758653</li>\n\t<li>2.48884021490812</li>\n\t<li>1.56482533924282</li>\n\t<li>2.26757261250168</li>\n\t<li>1.76036934182048</li>\n\t<li>2.78086062893271</li>\n\t<li>2.16763998055831</li>\n\t<li>2.66910182312131</li>\n\t<li>2.87541572004557</li>\n</ol>\n"
          },
          "metadata": {}
        }
      ]
    },
    {
      "metadata": {},
      "cell_type": "markdown",
      "source": "## Exponential Distribution\nThe **exponential distribution** describes the arrival time of a randomly recurring independent event sequence."
    },
    {
      "metadata": {},
      "cell_type": "markdown",
      "source": "**Problem**\n\nSuppose the mean checkout time of a supermarket cashier is three minutes. Find the probability of a customer checkout being completed by the cashier in less than two minutes.\n\n**Solution**\n\nThe checkout processing rate is equals to one divided by the mean checkout completion time. Hence the processing rate is 1/3 checkouts per minute. We then apply the function pexp of the exponential distribution with rate=1/3."
    },
    {
      "metadata": {
        "trusted": true
      },
      "cell_type": "code",
      "source": "pexp(2, rate=1/3)",
      "execution_count": 7,
      "outputs": [
        {
          "output_type": "display_data",
          "data": {
            "text/plain": "[1] 0.4865829",
            "text/latex": "0.486582880967408",
            "text/markdown": "0.486582880967408",
            "text/html": "0.486582880967408"
          },
          "metadata": {}
        }
      ]
    },
    {
      "metadata": {},
      "cell_type": "markdown",
      "source": "**Answer**\n\nThe probability of finishing a checkout in under two minutes by the cashier is 48.7%"
    },
    {
      "metadata": {},
      "cell_type": "markdown",
      "source": "## Normal Distribution"
    },
    {
      "metadata": {},
      "cell_type": "markdown",
      "source": "**Problem**\n\nAssume that the test scores of a college entrance exam fits a normal distribution. Furthermore, the mean test score is 72, and the standard deviation is 15.2. What is the percentage of students scoring 84 or more in the exam?\n\n**Solution**\n\nWe apply the function pnorm of the normal distribution with mean 72 and standard deviation 15.2. Since we are looking for the percentage of students scoring higher than 84, we are interested in the upper tail of the normal distribution."
    },
    {
      "metadata": {
        "trusted": true
      },
      "cell_type": "code",
      "source": "pnorm(84, mean=72, sd=15.2, lower.tail=FALSE)",
      "execution_count": 8,
      "outputs": [
        {
          "output_type": "display_data",
          "data": {
            "text/plain": "[1] 0.2149176",
            "text/latex": "0.214917602311272",
            "text/markdown": "0.214917602311272",
            "text/html": "0.214917602311272"
          },
          "metadata": {}
        }
      ]
    },
    {
      "metadata": {},
      "cell_type": "markdown",
      "source": "**Answer**\n\nThe percentage of students scoring 84 or more in the college entrance exam is 21.5%."
    },
    {
      "metadata": {},
      "cell_type": "markdown",
      "source": "## Chi-squared Distribution"
    },
    {
      "metadata": {},
      "cell_type": "markdown",
      "source": "**Problem**\n\nFind the 95th percentile of the Chi-Squared distribution with 7 degrees of freedom.\n\n**Solution**\n\nWe apply the quantile function qchisq of the Chi-Squared distribution against the decimal values 0.95."
    },
    {
      "metadata": {
        "trusted": true
      },
      "cell_type": "code",
      "source": "qchisq(.95, df=7)        # 7 degrees of freedom ",
      "execution_count": 9,
      "outputs": [
        {
          "output_type": "display_data",
          "data": {
            "text/plain": "[1] 14.06714",
            "text/latex": "14.0671404493402",
            "text/markdown": "14.0671404493402",
            "text/html": "14.0671404493402"
          },
          "metadata": {}
        }
      ]
    },
    {
      "metadata": {},
      "cell_type": "markdown",
      "source": "**Answer**\n\nThe 95th percentile of the Chi-Squared distribution with 7 degrees of freedom is 14.067."
    },
    {
      "metadata": {},
      "cell_type": "markdown",
      "source": "## Student t Distribution"
    },
    {
      "metadata": {},
      "cell_type": "markdown",
      "source": "**Problem**\n\nFind the 2.5th and 97.5th percentiles of the Student t distribution with 5 degrees of freedom.\n\n**Solution**\n\nWe apply the quantile function qt of the Student t distribution against the decimal values 0.025 and 0.975."
    },
    {
      "metadata": {
        "trusted": true
      },
      "cell_type": "code",
      "source": "qt(c(.025, .975), df=5)   # 5 degrees of freedom ",
      "execution_count": 10,
      "outputs": [
        {
          "output_type": "display_data",
          "data": {
            "text/plain": "[1] -2.570582  2.570582",
            "text/latex": "\\begin{enumerate*}\n\\item -2.57058183563632\n\\item 2.57058183563631\n\\end{enumerate*}\n",
            "text/markdown": "1. -2.57058183563632\n2. 2.57058183563631\n\n\n",
            "text/html": "<ol class=list-inline>\n\t<li>-2.57058183563632</li>\n\t<li>2.57058183563631</li>\n</ol>\n"
          },
          "metadata": {}
        }
      ]
    },
    {
      "metadata": {},
      "cell_type": "markdown",
      "source": "**Answer**\nThe 2.5th and 97.5th percentiles of the Student t distribution with 5 degrees of freedom are -2.5706 and 2.5706 respectively."
    },
    {
      "metadata": {},
      "cell_type": "markdown",
      "source": "## F Distribution\n**Problem**\n\nFind the 95th percentile of the F distribution with (5, 2) degrees of freedom.\n\n**Solution**\n\nWe apply the quantile function qf of the F distribution against the decimal value 0.95."
    },
    {
      "metadata": {
        "trusted": true
      },
      "cell_type": "code",
      "source": "qf(.95, df1=5, df2=2)",
      "execution_count": 11,
      "outputs": [
        {
          "output_type": "display_data",
          "data": {
            "text/plain": "[1] 19.29641",
            "text/latex": "19.2964096520172",
            "text/markdown": "19.2964096520172",
            "text/html": "19.2964096520172"
          },
          "metadata": {}
        }
      ]
    },
    {
      "metadata": {},
      "cell_type": "markdown",
      "source": "**Answer**\n\nThe 95th percentile of the F distribution with (5, 2) degrees of freedom is 19.296."
    },
    {
      "metadata": {
        "trusted": true
      },
      "cell_type": "code",
      "source": "",
      "execution_count": null,
      "outputs": []
    }
  ],
  "metadata": {
    "kernelspec": {
      "name": "r",
      "display_name": "R",
      "language": "R"
    },
    "language_info": {
      "mimetype": "text/x-r-source",
      "name": "R",
      "pygments_lexer": "r",
      "version": "3.4.1",
      "file_extension": ".r",
      "codemirror_mode": "r"
    }
  },
  "nbformat": 4,
  "nbformat_minor": 2
}