{
  "cells": [
    {
      "metadata": {
        "trusted": true
      },
      "cell_type": "code",
      "source": "system(\"mkdir -p ~/.R\", intern = TRUE)\nsystem(\"cp ~/library/Rstudies/Makevars ~/.R/Makevars\", intern = TRUE)",
      "execution_count": 8,
      "outputs": [
        {
          "output_type": "display_data",
          "data": {
            "text/plain": "character(0)",
            "text/latex": "",
            "text/markdown": "",
            "text/html": ""
          },
          "metadata": {}
        },
        {
          "output_type": "stream",
          "text": "Warning message:\n“running command 'cp ~/library/Rstudies/Makevars ~/.R/Makevars' had status 1”",
          "name": "stderr"
        },
        {
          "output_type": "display_data",
          "data": {
            "text/plain": "character(0)\nattr(,\"status\")\n[1] 1\nattr(,\"errmsg\")\n[1] \"Resource temporarily unavailable\"",
            "text/latex": "",
            "text/markdown": "",
            "text/html": ""
          },
          "metadata": {}
        }
      ]
    },
    {
      "metadata": {
        "trusted": true
      },
      "cell_type": "code",
      "source": "install.packages(\"moments\", verbose=TRUE)",
      "execution_count": 9,
      "outputs": [
        {
          "output_type": "stream",
          "text": "Installing package into ‘/home/nbuser/R’\n(as ‘lib’ is unspecified)\nsystem (cmd0): /opt/microsoft/ropen/3.4.1/lib64/R/bin/R CMD INSTALL\nfoundpkgs: moments, /tmp/Rtmp7cSMQn/downloaded_packages/moments_0.14.tar.gz\nfiles: /tmp/Rtmp7cSMQn/downloaded_packages/moments_0.14.tar.gz\n1): succeeded '/opt/microsoft/ropen/3.4.1/lib64/R/bin/R CMD INSTALL -l '/home/nbuser/R' /tmp/Rtmp7cSMQn/downloaded_packages/moments_0.14.tar.gz'\n",
          "name": "stderr"
        }
      ]
    },
    {
      "metadata": {
        "trusted": true
      },
      "cell_type": "code",
      "source": "require(caret)",
      "execution_count": 7,
      "outputs": [
        {
          "output_type": "stream",
          "text": "Loading required package: caret\nWarning message in library(package, lib.loc = lib.loc, character.only = TRUE, logical.return = TRUE, :\n“there is no package called ‘caret’”",
          "name": "stderr"
        }
      ]
    },
    {
      "metadata": {
        "trusted": true
      },
      "cell_type": "code",
      "source": "",
      "execution_count": null,
      "outputs": []
    }
  ],
  "metadata": {
    "kernelspec": {
      "name": "r",
      "display_name": "R",
      "language": "R"
    },
    "language_info": {
      "mimetype": "text/x-r-source",
      "name": "R",
      "pygments_lexer": "r",
      "version": "3.4.1",
      "file_extension": ".r",
      "codemirror_mode": "r"
    }
  },
  "nbformat": 4,
  "nbformat_minor": 2
}